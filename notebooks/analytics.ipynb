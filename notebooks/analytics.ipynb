{
 "cells": [
  {
   "cell_type": "markdown",
   "metadata": {},
   "source": [
    "# Predicting employee churn with Python\n",
    "\n",
    "<img src='img/churn.png' width='600px'> \n",
    "\n",
    "The goal of this notebook is to let you peek behind the shoulders of a data scientist. Only that there's no data scientist around, so you'll have to help yourself.\n",
    "\n",
    "Scared? Don't be! We'll help you out, and the use case is light and fun!\n",
    "\n",
    "Ultimately, the goal of the notebook will be that — in case you'll have to peek behind the shoulders of a real data scientist, you won't be (too) scared or surprised of what you'll see.\n",
    "\n",
    "---\n",
    "\n",
    "The data scientist was tasked to create a model to predict **employee churn**. In other words, **are we able to foresee whether a employee will leave**? \n",
    "\n",
    "This is a very common goal for a lot of companies because, if we can predict the likelihood of a employee churning, we can \n",
    "\n",
    "- Use this information to plan for future resource requirements or\n",
    "- Implement interventions."
   ]
  },
  {
   "cell_type": "markdown",
   "metadata": {},
   "source": [
    "## Contents\n",
    "\n",
    "<img src='img/check.png' width='350px' align='right'>\n",
    "\n",
    "Throughout this notebook we are going to cover the following topics:\n",
    "\n",
    "- [**Working with Jupyter Notebook**](#working)\n",
    "- [**Steps to Model Development**](#steps)\n",
    "    - [*Data Acquisition*](#data)\n",
    "    - [*Data Cleaning*](#clean)\n",
    "    - [*Exploratory Analysis*](#explore)\n",
    "    - [*Model Development*](#model)\n",
    "    - [*Model Refinement*](#refine)\n",
    "- [**Summary**](#summary)"
   ]
  },
  {
   "cell_type": "markdown",
   "metadata": {},
   "source": [
    "---\n",
    "<a id = 'working'></a>\n",
    "## Working with Jupyter Notebook\n",
    "\n",
    "Before we get stuck in to our model development process, the first thing we want to do is get familiar with Jupyter Notebook. We don't need to know how the code works, but we need to be able to run the code in each cell. \n",
    "\n",
    "### Check that Jupyter is working\n",
    "Run the cell below with the current code by clicking the run button at the top of this notebook. (Alternatively you can use CRTL+Enter (or Command+Enter on a Mac)."
   ]
  },
  {
   "cell_type": "code",
   "execution_count": 1,
   "metadata": {},
   "outputs": [
    {
     "data": {
      "text/plain": [
       "2"
      ]
     },
     "execution_count": 1,
     "metadata": {},
     "output_type": "execute_result"
    }
   ],
   "source": [
    "3 - 1"
   ]
  },
  {
   "cell_type": "markdown",
   "metadata": {},
   "source": [
    "Does the code output look correct? The answer should be 2!\n",
    "\n",
    "**Tip**: Be aware that we must run the cells in order! If you have not run a previous cell that the current cell relies on it may not work!"
   ]
  },
  {
   "cell_type": "markdown",
   "metadata": {},
   "source": [
    "### Task: Load the libraries\n",
    "\n",
    "Now that we know Python is working in our environment we can import some Python libraries. Everything below is pulling in some functionality that we will use to investigate the data and build our model. This next cell can be daunting, but don't worry, it's just boilerplate. Run this cell the same way you did with the cell above."
   ]
  },
  {
   "cell_type": "code",
   "execution_count": 1,
   "metadata": {},
   "outputs": [
    {
     "name": "stderr",
     "output_type": "stream",
     "text": [
      "/Users/herbertvanleeuwen/workingdir/at-industrialization/.venv/lib/python3.9/site-packages/pandas/compat/__init__.py:124: UserWarning: Could not import the lzma module. Your installed Python is incomplete. Attempting to use lzma compression will result in a RuntimeError.\n",
      "  warnings.warn(msg)\n"
     ]
    }
   ],
   "source": [
    "import sklearn\n",
    "import pandas as pd\n",
    "import numpy as np\n",
    "from sklearn.tree import DecisionTreeClassifier as DecisionTree\n",
    "from sklearn.ensemble import RandomForestClassifier as RandomForest\n",
    "from sklearn.model_selection import train_test_split\n",
    "from sklearn import metrics\n",
    "import matplotlib.pyplot as plt\n",
    "from sklearn import preprocessing\n",
    "label_encoder = preprocessing.LabelEncoder()"
   ]
  },
  {
   "cell_type": "markdown",
   "metadata": {},
   "source": [
    "---\n",
    "\n",
    "\n",
    "## Model Development\n",
    "\n",
    "A predictive model uses statistics to predict outcomes.\n",
    "\n",
    "<a id='steps'></a><img src='img/mod-dev.png' align='right' width='300px'>\n",
    "\n",
    "The outcome we want to predict is to determine if a colleague will leave or not. \n",
    "\n",
    "To do so, we will use data from the past to teach a model relationships in that data.\n",
    "\n",
    "\n",
    "### Steps to Model Development\n",
    "\n",
    "There are 5 steps that we carry out when we build a model:\n",
    "\n",
    "1. Data Acquisition\n",
    "2. Data Cleaning\n",
    "3. Exploratory Analysis\n",
    "4. Model Development\n",
    "5. Model Refining"
   ]
  },
  {
   "cell_type": "markdown",
   "metadata": {},
   "source": [
    "---\n",
    "<a id='steps'></a><img src='img/mod-dev1.png' align='right' width='300px'>\n",
    "<a id='data'></a>\n",
    "## Data Acquisition\n",
    "\n",
    "Before doing any analysis, it's important to load the data in this notebook. \n",
    "\n",
    "Our data is an HR dataset that has the following columns:\n",
    "\n",
    "|Column|Description|\n",
    "|:---|:---|\n",
    "| left |Whether the employee has left the company or not|\n",
    "| satisfaction_level| Employee satisfaction point|\n",
    "| last_evaluation| Evaluated performance by the employer|\n",
    "| number_projects| # of projects assigned to an employee|\n",
    "| average_monthly_hours| Average numbers of hours worked in a month?|\n",
    "| time_spent_company| # of years spent in the company|\n",
    "| work_accident| Whether an employee has had a work accident|\n",
    "| promotion_last_5years| Whether an employee has had a promotion in the last 5 years|\n",
    "| departments| Employee's department|\n",
    "| salary| Salary level|"
   ]
  },
  {
   "cell_type": "markdown",
   "metadata": {},
   "source": [
    "Let's load this data in! \n",
    "\n",
    "Run the cell below to load in the data and view the top 5 rows."
   ]
  },
  {
   "cell_type": "code",
   "execution_count": 3,
   "metadata": {},
   "outputs": [
    {
     "data": {
      "text/html": [
       "<div>\n",
       "<style scoped>\n",
       "    .dataframe tbody tr th:only-of-type {\n",
       "        vertical-align: middle;\n",
       "    }\n",
       "\n",
       "    .dataframe tbody tr th {\n",
       "        vertical-align: top;\n",
       "    }\n",
       "\n",
       "    .dataframe thead th {\n",
       "        text-align: right;\n",
       "    }\n",
       "</style>\n",
       "<table border=\"1\" class=\"dataframe\">\n",
       "  <thead>\n",
       "    <tr style=\"text-align: right;\">\n",
       "      <th></th>\n",
       "      <th>left</th>\n",
       "      <th>satisfaction_level</th>\n",
       "      <th>last_evaluation</th>\n",
       "      <th>number_project</th>\n",
       "      <th>average_montly_hours</th>\n",
       "      <th>time_spend_company</th>\n",
       "      <th>work_accident</th>\n",
       "      <th>promotion_last_5years</th>\n",
       "      <th>departments</th>\n",
       "      <th>salary</th>\n",
       "    </tr>\n",
       "  </thead>\n",
       "  <tbody>\n",
       "    <tr>\n",
       "      <th>0</th>\n",
       "      <td>1</td>\n",
       "      <td>0.38</td>\n",
       "      <td>0.53</td>\n",
       "      <td>2</td>\n",
       "      <td>157</td>\n",
       "      <td>3</td>\n",
       "      <td>0</td>\n",
       "      <td>0</td>\n",
       "      <td>sales</td>\n",
       "      <td>low</td>\n",
       "    </tr>\n",
       "    <tr>\n",
       "      <th>1</th>\n",
       "      <td>1</td>\n",
       "      <td>0.80</td>\n",
       "      <td>0.86</td>\n",
       "      <td>5</td>\n",
       "      <td>262</td>\n",
       "      <td>6</td>\n",
       "      <td>0</td>\n",
       "      <td>0</td>\n",
       "      <td>sales</td>\n",
       "      <td>medium</td>\n",
       "    </tr>\n",
       "    <tr>\n",
       "      <th>2</th>\n",
       "      <td>1</td>\n",
       "      <td>0.11</td>\n",
       "      <td>0.88</td>\n",
       "      <td>7</td>\n",
       "      <td>272</td>\n",
       "      <td>4</td>\n",
       "      <td>0</td>\n",
       "      <td>0</td>\n",
       "      <td>sales</td>\n",
       "      <td>medium</td>\n",
       "    </tr>\n",
       "    <tr>\n",
       "      <th>3</th>\n",
       "      <td>1</td>\n",
       "      <td>0.72</td>\n",
       "      <td>0.87</td>\n",
       "      <td>5</td>\n",
       "      <td>223</td>\n",
       "      <td>5</td>\n",
       "      <td>0</td>\n",
       "      <td>0</td>\n",
       "      <td>sales</td>\n",
       "      <td>low</td>\n",
       "    </tr>\n",
       "    <tr>\n",
       "      <th>4</th>\n",
       "      <td>1</td>\n",
       "      <td>0.37</td>\n",
       "      <td>0.52</td>\n",
       "      <td>2</td>\n",
       "      <td>159</td>\n",
       "      <td>3</td>\n",
       "      <td>0</td>\n",
       "      <td>0</td>\n",
       "      <td>sales</td>\n",
       "      <td>low</td>\n",
       "    </tr>\n",
       "  </tbody>\n",
       "</table>\n",
       "</div>"
      ],
      "text/plain": [
       "   left  satisfaction_level  last_evaluation  number_project  \\\n",
       "0     1                0.38             0.53               2   \n",
       "1     1                0.80             0.86               5   \n",
       "2     1                0.11             0.88               7   \n",
       "3     1                0.72             0.87               5   \n",
       "4     1                0.37             0.52               2   \n",
       "\n",
       "   average_montly_hours  time_spend_company  work_accident  \\\n",
       "0                   157                   3              0   \n",
       "1                   262                   6              0   \n",
       "2                   272                   4              0   \n",
       "3                   223                   5              0   \n",
       "4                   159                   3              0   \n",
       "\n",
       "   promotion_last_5years departments  salary  \n",
       "0                      0       sales     low  \n",
       "1                      0       sales  medium  \n",
       "2                      0       sales  medium  \n",
       "3                      0       sales     low  \n",
       "4                      0       sales     low  "
      ]
     },
     "execution_count": 3,
     "metadata": {},
     "output_type": "execute_result"
    }
   ],
   "source": [
    "hr = pd.read_csv('HR.csv')\n",
    "hr.head()"
   ]
  },
  {
   "cell_type": "markdown",
   "metadata": {},
   "source": [
    "Loading data was easy. This is often not the case, as the data might be locked in some database we don't have access to, or might be need to be retrieved from the internet, etc.\n",
    "\n",
    "Luckily for us, the data was stored locally. 😅"
   ]
  },
  {
   "cell_type": "markdown",
   "metadata": {},
   "source": [
    "---\n",
    "<a id='steps'></a><img src='img/mod-dev2.png' align='right' width='300px'>\n",
    "<a id='clean'></a>\n",
    "## Data Cleaning\n",
    "\n",
    "Now we can start with our cleaning process. There are many things we might want to clean in data. Luckily for us this dataset is already quite clean so we will only focus on the following:\n",
    "\n",
    "1. Remove the column that contains what we want to predict (e.g. whether an employee has left or not) \n",
    "2. Convert all strings to numeric values\n",
    "\n",
    "We will explain a little bit more about these in the following steps."
   ]
  },
  {
   "cell_type": "markdown",
   "metadata": {},
   "source": [
    "### 1. Remove the target variable\n",
    "\n",
    "When we build a predictive model we need to split the data so that we have one dataset with the features (e.g. **satisfaction_level**, **last_evaluation**, etc.) and one dataset with only the target variable (what we want to predict, **left** in our case).\n",
    "\n",
    "To remove the target variable, use the following code"
   ]
  },
  {
   "cell_type": "code",
   "execution_count": 4,
   "metadata": {},
   "outputs": [
    {
     "data": {
      "text/html": [
       "<div>\n",
       "<style scoped>\n",
       "    .dataframe tbody tr th:only-of-type {\n",
       "        vertical-align: middle;\n",
       "    }\n",
       "\n",
       "    .dataframe tbody tr th {\n",
       "        vertical-align: top;\n",
       "    }\n",
       "\n",
       "    .dataframe thead th {\n",
       "        text-align: right;\n",
       "    }\n",
       "</style>\n",
       "<table border=\"1\" class=\"dataframe\">\n",
       "  <thead>\n",
       "    <tr style=\"text-align: right;\">\n",
       "      <th></th>\n",
       "      <th>satisfaction_level</th>\n",
       "      <th>last_evaluation</th>\n",
       "      <th>number_project</th>\n",
       "      <th>average_montly_hours</th>\n",
       "      <th>time_spend_company</th>\n",
       "      <th>work_accident</th>\n",
       "      <th>promotion_last_5years</th>\n",
       "      <th>departments</th>\n",
       "      <th>salary</th>\n",
       "    </tr>\n",
       "  </thead>\n",
       "  <tbody>\n",
       "    <tr>\n",
       "      <th>0</th>\n",
       "      <td>0.38</td>\n",
       "      <td>0.53</td>\n",
       "      <td>2</td>\n",
       "      <td>157</td>\n",
       "      <td>3</td>\n",
       "      <td>0</td>\n",
       "      <td>0</td>\n",
       "      <td>sales</td>\n",
       "      <td>low</td>\n",
       "    </tr>\n",
       "    <tr>\n",
       "      <th>1</th>\n",
       "      <td>0.80</td>\n",
       "      <td>0.86</td>\n",
       "      <td>5</td>\n",
       "      <td>262</td>\n",
       "      <td>6</td>\n",
       "      <td>0</td>\n",
       "      <td>0</td>\n",
       "      <td>sales</td>\n",
       "      <td>medium</td>\n",
       "    </tr>\n",
       "    <tr>\n",
       "      <th>2</th>\n",
       "      <td>0.11</td>\n",
       "      <td>0.88</td>\n",
       "      <td>7</td>\n",
       "      <td>272</td>\n",
       "      <td>4</td>\n",
       "      <td>0</td>\n",
       "      <td>0</td>\n",
       "      <td>sales</td>\n",
       "      <td>medium</td>\n",
       "    </tr>\n",
       "    <tr>\n",
       "      <th>3</th>\n",
       "      <td>0.72</td>\n",
       "      <td>0.87</td>\n",
       "      <td>5</td>\n",
       "      <td>223</td>\n",
       "      <td>5</td>\n",
       "      <td>0</td>\n",
       "      <td>0</td>\n",
       "      <td>sales</td>\n",
       "      <td>low</td>\n",
       "    </tr>\n",
       "    <tr>\n",
       "      <th>4</th>\n",
       "      <td>0.37</td>\n",
       "      <td>0.52</td>\n",
       "      <td>2</td>\n",
       "      <td>159</td>\n",
       "      <td>3</td>\n",
       "      <td>0</td>\n",
       "      <td>0</td>\n",
       "      <td>sales</td>\n",
       "      <td>low</td>\n",
       "    </tr>\n",
       "  </tbody>\n",
       "</table>\n",
       "</div>"
      ],
      "text/plain": [
       "   satisfaction_level  last_evaluation  number_project  average_montly_hours  \\\n",
       "0                0.38             0.53               2                   157   \n",
       "1                0.80             0.86               5                   262   \n",
       "2                0.11             0.88               7                   272   \n",
       "3                0.72             0.87               5                   223   \n",
       "4                0.37             0.52               2                   159   \n",
       "\n",
       "   time_spend_company  work_accident  promotion_last_5years departments  \\\n",
       "0                   3              0                      0       sales   \n",
       "1                   6              0                      0       sales   \n",
       "2                   4              0                      0       sales   \n",
       "3                   5              0                      0       sales   \n",
       "4                   3              0                      0       sales   \n",
       "\n",
       "   salary  \n",
       "0     low  \n",
       "1  medium  \n",
       "2  medium  \n",
       "3     low  \n",
       "4     low  "
      ]
     },
     "execution_count": 4,
     "metadata": {},
     "output_type": "execute_result"
    }
   ],
   "source": [
    "hr_clean = hr.drop(columns=[\"left\"])\n",
    "hr_clean.head()"
   ]
  },
  {
   "cell_type": "markdown",
   "metadata": {},
   "source": [
    "We **will need to keep the target variable** so let's create a `target_variable` variable to store this by itself:"
   ]
  },
  {
   "cell_type": "code",
   "execution_count": 5,
   "metadata": {},
   "outputs": [],
   "source": [
    "target_variable = hr['left']"
   ]
  },
  {
   "cell_type": "markdown",
   "metadata": {},
   "source": [
    "### 2. Convert strings into numeric values\n",
    "\n",
    "There is one extra step that we need to do before being able to apply machine learning models: the libraries we will use requires strings to be turned into numbers. Doing so is just a matter of using this code. \n",
    "\n",
    "Run the next cell to convert these columns and look at the data to check that `salary` and `Departments` are now indeed stored as numbers instead of strings"
   ]
  },
  {
   "cell_type": "code",
   "execution_count": 6,
   "metadata": {},
   "outputs": [
    {
     "data": {
      "text/html": [
       "<div>\n",
       "<style scoped>\n",
       "    .dataframe tbody tr th:only-of-type {\n",
       "        vertical-align: middle;\n",
       "    }\n",
       "\n",
       "    .dataframe tbody tr th {\n",
       "        vertical-align: top;\n",
       "    }\n",
       "\n",
       "    .dataframe thead th {\n",
       "        text-align: right;\n",
       "    }\n",
       "</style>\n",
       "<table border=\"1\" class=\"dataframe\">\n",
       "  <thead>\n",
       "    <tr style=\"text-align: right;\">\n",
       "      <th></th>\n",
       "      <th>satisfaction_level</th>\n",
       "      <th>last_evaluation</th>\n",
       "      <th>number_project</th>\n",
       "      <th>average_montly_hours</th>\n",
       "      <th>time_spend_company</th>\n",
       "      <th>work_accident</th>\n",
       "      <th>promotion_last_5years</th>\n",
       "      <th>departments</th>\n",
       "      <th>salary</th>\n",
       "    </tr>\n",
       "  </thead>\n",
       "  <tbody>\n",
       "    <tr>\n",
       "      <th>0</th>\n",
       "      <td>0.38</td>\n",
       "      <td>0.53</td>\n",
       "      <td>2</td>\n",
       "      <td>157</td>\n",
       "      <td>3</td>\n",
       "      <td>0</td>\n",
       "      <td>0</td>\n",
       "      <td>7</td>\n",
       "      <td>1</td>\n",
       "    </tr>\n",
       "    <tr>\n",
       "      <th>1</th>\n",
       "      <td>0.80</td>\n",
       "      <td>0.86</td>\n",
       "      <td>5</td>\n",
       "      <td>262</td>\n",
       "      <td>6</td>\n",
       "      <td>0</td>\n",
       "      <td>0</td>\n",
       "      <td>7</td>\n",
       "      <td>2</td>\n",
       "    </tr>\n",
       "    <tr>\n",
       "      <th>2</th>\n",
       "      <td>0.11</td>\n",
       "      <td>0.88</td>\n",
       "      <td>7</td>\n",
       "      <td>272</td>\n",
       "      <td>4</td>\n",
       "      <td>0</td>\n",
       "      <td>0</td>\n",
       "      <td>7</td>\n",
       "      <td>2</td>\n",
       "    </tr>\n",
       "    <tr>\n",
       "      <th>3</th>\n",
       "      <td>0.72</td>\n",
       "      <td>0.87</td>\n",
       "      <td>5</td>\n",
       "      <td>223</td>\n",
       "      <td>5</td>\n",
       "      <td>0</td>\n",
       "      <td>0</td>\n",
       "      <td>7</td>\n",
       "      <td>1</td>\n",
       "    </tr>\n",
       "    <tr>\n",
       "      <th>4</th>\n",
       "      <td>0.37</td>\n",
       "      <td>0.52</td>\n",
       "      <td>2</td>\n",
       "      <td>159</td>\n",
       "      <td>3</td>\n",
       "      <td>0</td>\n",
       "      <td>0</td>\n",
       "      <td>7</td>\n",
       "      <td>1</td>\n",
       "    </tr>\n",
       "  </tbody>\n",
       "</table>\n",
       "</div>"
      ],
      "text/plain": [
       "   satisfaction_level  last_evaluation  number_project  average_montly_hours  \\\n",
       "0                0.38             0.53               2                   157   \n",
       "1                0.80             0.86               5                   262   \n",
       "2                0.11             0.88               7                   272   \n",
       "3                0.72             0.87               5                   223   \n",
       "4                0.37             0.52               2                   159   \n",
       "\n",
       "   time_spend_company  work_accident  promotion_last_5years  departments  \\\n",
       "0                   3              0                      0            7   \n",
       "1                   6              0                      0            7   \n",
       "2                   4              0                      0            7   \n",
       "3                   5              0                      0            7   \n",
       "4                   3              0                      0            7   \n",
       "\n",
       "   salary  \n",
       "0       1  \n",
       "1       2  \n",
       "2       2  \n",
       "3       1  \n",
       "4       1  "
      ]
     },
     "execution_count": 6,
     "metadata": {},
     "output_type": "execute_result"
    }
   ],
   "source": [
    "hr_clean['salary'] = label_encoder.fit_transform(hr_clean['salary'])\n",
    "hr_clean['departments'] = label_encoder.fit_transform(hr_clean['departments'])\n",
    "\n",
    "hr_clean.head()"
   ]
  },
  {
   "cell_type": "markdown",
   "metadata": {},
   "source": [
    "The dataset `hr_clean` will be useful for our modeling step!"
   ]
  },
  {
   "cell_type": "markdown",
   "metadata": {},
   "source": [
    "---\n",
    "<a id='steps'></a><img src='img/mod-dev3.png' align='right' width='300px'>\n",
    "<a id='explore'></a>\n",
    "## Exploratory Analysis\n",
    "\n",
    "Before we build a model, we must understand our data. Now it's time to do some exploratory analysis. We could go very deep into this but for now we are just going to carry out three steps:\n",
    "\n",
    "1. Using describe to see some standard statistics\n",
    "2. Look at how the stats are impacted by whether an employee left\n",
    "3. Visualise some more in-depth analysis\n",
    "\n",
    "The easiest way to explore our data is to call `.describe()` on our dataset."
   ]
  },
  {
   "cell_type": "markdown",
   "metadata": {},
   "source": [
    "### 1. Using describe to see some standard statistics\n",
    "\n",
    "By calling `.describe()` on our dataset we can easily see some standard statistics:"
   ]
  },
  {
   "cell_type": "code",
   "execution_count": 7,
   "metadata": {},
   "outputs": [
    {
     "data": {
      "text/html": [
       "<div>\n",
       "<style scoped>\n",
       "    .dataframe tbody tr th:only-of-type {\n",
       "        vertical-align: middle;\n",
       "    }\n",
       "\n",
       "    .dataframe tbody tr th {\n",
       "        vertical-align: top;\n",
       "    }\n",
       "\n",
       "    .dataframe thead th {\n",
       "        text-align: right;\n",
       "    }\n",
       "</style>\n",
       "<table border=\"1\" class=\"dataframe\">\n",
       "  <thead>\n",
       "    <tr style=\"text-align: right;\">\n",
       "      <th></th>\n",
       "      <th>left</th>\n",
       "      <th>satisfaction_level</th>\n",
       "      <th>last_evaluation</th>\n",
       "      <th>number_project</th>\n",
       "      <th>average_montly_hours</th>\n",
       "      <th>time_spend_company</th>\n",
       "      <th>work_accident</th>\n",
       "      <th>promotion_last_5years</th>\n",
       "    </tr>\n",
       "  </thead>\n",
       "  <tbody>\n",
       "    <tr>\n",
       "      <th>count</th>\n",
       "      <td>14999.000000</td>\n",
       "      <td>14999.000000</td>\n",
       "      <td>14999.000000</td>\n",
       "      <td>14999.000000</td>\n",
       "      <td>14999.000000</td>\n",
       "      <td>14999.000000</td>\n",
       "      <td>14999.000000</td>\n",
       "      <td>14999.000000</td>\n",
       "    </tr>\n",
       "    <tr>\n",
       "      <th>mean</th>\n",
       "      <td>0.238083</td>\n",
       "      <td>0.612834</td>\n",
       "      <td>0.716102</td>\n",
       "      <td>3.803054</td>\n",
       "      <td>201.050337</td>\n",
       "      <td>3.498233</td>\n",
       "      <td>0.144610</td>\n",
       "      <td>0.021268</td>\n",
       "    </tr>\n",
       "    <tr>\n",
       "      <th>std</th>\n",
       "      <td>0.425924</td>\n",
       "      <td>0.248631</td>\n",
       "      <td>0.171169</td>\n",
       "      <td>1.232592</td>\n",
       "      <td>49.943099</td>\n",
       "      <td>1.460136</td>\n",
       "      <td>0.351719</td>\n",
       "      <td>0.144281</td>\n",
       "    </tr>\n",
       "    <tr>\n",
       "      <th>min</th>\n",
       "      <td>0.000000</td>\n",
       "      <td>0.090000</td>\n",
       "      <td>0.360000</td>\n",
       "      <td>2.000000</td>\n",
       "      <td>96.000000</td>\n",
       "      <td>2.000000</td>\n",
       "      <td>0.000000</td>\n",
       "      <td>0.000000</td>\n",
       "    </tr>\n",
       "    <tr>\n",
       "      <th>25%</th>\n",
       "      <td>0.000000</td>\n",
       "      <td>0.440000</td>\n",
       "      <td>0.560000</td>\n",
       "      <td>3.000000</td>\n",
       "      <td>156.000000</td>\n",
       "      <td>3.000000</td>\n",
       "      <td>0.000000</td>\n",
       "      <td>0.000000</td>\n",
       "    </tr>\n",
       "    <tr>\n",
       "      <th>50%</th>\n",
       "      <td>0.000000</td>\n",
       "      <td>0.640000</td>\n",
       "      <td>0.720000</td>\n",
       "      <td>4.000000</td>\n",
       "      <td>200.000000</td>\n",
       "      <td>3.000000</td>\n",
       "      <td>0.000000</td>\n",
       "      <td>0.000000</td>\n",
       "    </tr>\n",
       "    <tr>\n",
       "      <th>75%</th>\n",
       "      <td>0.000000</td>\n",
       "      <td>0.820000</td>\n",
       "      <td>0.870000</td>\n",
       "      <td>5.000000</td>\n",
       "      <td>245.000000</td>\n",
       "      <td>4.000000</td>\n",
       "      <td>0.000000</td>\n",
       "      <td>0.000000</td>\n",
       "    </tr>\n",
       "    <tr>\n",
       "      <th>max</th>\n",
       "      <td>1.000000</td>\n",
       "      <td>1.000000</td>\n",
       "      <td>1.000000</td>\n",
       "      <td>7.000000</td>\n",
       "      <td>310.000000</td>\n",
       "      <td>10.000000</td>\n",
       "      <td>1.000000</td>\n",
       "      <td>1.000000</td>\n",
       "    </tr>\n",
       "  </tbody>\n",
       "</table>\n",
       "</div>"
      ],
      "text/plain": [
       "               left  satisfaction_level  last_evaluation  number_project  \\\n",
       "count  14999.000000        14999.000000     14999.000000    14999.000000   \n",
       "mean       0.238083            0.612834         0.716102        3.803054   \n",
       "std        0.425924            0.248631         0.171169        1.232592   \n",
       "min        0.000000            0.090000         0.360000        2.000000   \n",
       "25%        0.000000            0.440000         0.560000        3.000000   \n",
       "50%        0.000000            0.640000         0.720000        4.000000   \n",
       "75%        0.000000            0.820000         0.870000        5.000000   \n",
       "max        1.000000            1.000000         1.000000        7.000000   \n",
       "\n",
       "       average_montly_hours  time_spend_company  work_accident  \\\n",
       "count          14999.000000        14999.000000   14999.000000   \n",
       "mean             201.050337            3.498233       0.144610   \n",
       "std               49.943099            1.460136       0.351719   \n",
       "min               96.000000            2.000000       0.000000   \n",
       "25%              156.000000            3.000000       0.000000   \n",
       "50%              200.000000            3.000000       0.000000   \n",
       "75%              245.000000            4.000000       0.000000   \n",
       "max              310.000000           10.000000       1.000000   \n",
       "\n",
       "       promotion_last_5years  \n",
       "count           14999.000000  \n",
       "mean                0.021268  \n",
       "std                 0.144281  \n",
       "min                 0.000000  \n",
       "25%                 0.000000  \n",
       "50%                 0.000000  \n",
       "75%                 0.000000  \n",
       "max                 1.000000  "
      ]
     },
     "execution_count": 7,
     "metadata": {},
     "output_type": "execute_result"
    }
   ],
   "source": [
    "hr.describe()"
   ]
  },
  {
   "cell_type": "markdown",
   "metadata": {},
   "source": [
    "### 2. Look at how the stats are impacted by whether an employee left\n",
    "\n",
    "Now we might want to look at how these statistics differ whether the employee left (`left=1`) or not (`left=2`).\n",
    "\n",
    "We can combine what we did above with the `left` column to see this:"
   ]
  },
  {
   "cell_type": "code",
   "execution_count": 8,
   "metadata": {},
   "outputs": [
    {
     "data": {
      "text/html": [
       "<div>\n",
       "<style scoped>\n",
       "    .dataframe tbody tr th:only-of-type {\n",
       "        vertical-align: middle;\n",
       "    }\n",
       "\n",
       "    .dataframe tbody tr th {\n",
       "        vertical-align: top;\n",
       "    }\n",
       "\n",
       "    .dataframe thead th {\n",
       "        text-align: right;\n",
       "    }\n",
       "</style>\n",
       "<table border=\"1\" class=\"dataframe\">\n",
       "  <thead>\n",
       "    <tr style=\"text-align: right;\">\n",
       "      <th></th>\n",
       "      <th>left</th>\n",
       "      <th>0</th>\n",
       "      <th>1</th>\n",
       "    </tr>\n",
       "  </thead>\n",
       "  <tbody>\n",
       "    <tr>\n",
       "      <th rowspan=\"8\" valign=\"top\">satisfaction_level</th>\n",
       "      <th>count</th>\n",
       "      <td>11428.000000</td>\n",
       "      <td>3571.000000</td>\n",
       "    </tr>\n",
       "    <tr>\n",
       "      <th>mean</th>\n",
       "      <td>0.666810</td>\n",
       "      <td>0.440098</td>\n",
       "    </tr>\n",
       "    <tr>\n",
       "      <th>std</th>\n",
       "      <td>0.217104</td>\n",
       "      <td>0.263933</td>\n",
       "    </tr>\n",
       "    <tr>\n",
       "      <th>min</th>\n",
       "      <td>0.120000</td>\n",
       "      <td>0.090000</td>\n",
       "    </tr>\n",
       "    <tr>\n",
       "      <th>25%</th>\n",
       "      <td>0.540000</td>\n",
       "      <td>0.130000</td>\n",
       "    </tr>\n",
       "    <tr>\n",
       "      <th>50%</th>\n",
       "      <td>0.690000</td>\n",
       "      <td>0.410000</td>\n",
       "    </tr>\n",
       "    <tr>\n",
       "      <th>75%</th>\n",
       "      <td>0.840000</td>\n",
       "      <td>0.730000</td>\n",
       "    </tr>\n",
       "    <tr>\n",
       "      <th>max</th>\n",
       "      <td>1.000000</td>\n",
       "      <td>0.920000</td>\n",
       "    </tr>\n",
       "    <tr>\n",
       "      <th rowspan=\"8\" valign=\"top\">last_evaluation</th>\n",
       "      <th>count</th>\n",
       "      <td>11428.000000</td>\n",
       "      <td>3571.000000</td>\n",
       "    </tr>\n",
       "    <tr>\n",
       "      <th>mean</th>\n",
       "      <td>0.715473</td>\n",
       "      <td>0.718113</td>\n",
       "    </tr>\n",
       "    <tr>\n",
       "      <th>std</th>\n",
       "      <td>0.162005</td>\n",
       "      <td>0.197673</td>\n",
       "    </tr>\n",
       "    <tr>\n",
       "      <th>min</th>\n",
       "      <td>0.360000</td>\n",
       "      <td>0.450000</td>\n",
       "    </tr>\n",
       "    <tr>\n",
       "      <th>25%</th>\n",
       "      <td>0.580000</td>\n",
       "      <td>0.520000</td>\n",
       "    </tr>\n",
       "    <tr>\n",
       "      <th>50%</th>\n",
       "      <td>0.710000</td>\n",
       "      <td>0.790000</td>\n",
       "    </tr>\n",
       "    <tr>\n",
       "      <th>75%</th>\n",
       "      <td>0.850000</td>\n",
       "      <td>0.900000</td>\n",
       "    </tr>\n",
       "    <tr>\n",
       "      <th>max</th>\n",
       "      <td>1.000000</td>\n",
       "      <td>1.000000</td>\n",
       "    </tr>\n",
       "    <tr>\n",
       "      <th rowspan=\"8\" valign=\"top\">number_project</th>\n",
       "      <th>count</th>\n",
       "      <td>11428.000000</td>\n",
       "      <td>3571.000000</td>\n",
       "    </tr>\n",
       "    <tr>\n",
       "      <th>mean</th>\n",
       "      <td>3.786664</td>\n",
       "      <td>3.855503</td>\n",
       "    </tr>\n",
       "    <tr>\n",
       "      <th>std</th>\n",
       "      <td>0.979884</td>\n",
       "      <td>1.818165</td>\n",
       "    </tr>\n",
       "    <tr>\n",
       "      <th>min</th>\n",
       "      <td>2.000000</td>\n",
       "      <td>2.000000</td>\n",
       "    </tr>\n",
       "    <tr>\n",
       "      <th>25%</th>\n",
       "      <td>3.000000</td>\n",
       "      <td>2.000000</td>\n",
       "    </tr>\n",
       "    <tr>\n",
       "      <th>50%</th>\n",
       "      <td>4.000000</td>\n",
       "      <td>4.000000</td>\n",
       "    </tr>\n",
       "    <tr>\n",
       "      <th>75%</th>\n",
       "      <td>4.000000</td>\n",
       "      <td>6.000000</td>\n",
       "    </tr>\n",
       "    <tr>\n",
       "      <th>max</th>\n",
       "      <td>6.000000</td>\n",
       "      <td>7.000000</td>\n",
       "    </tr>\n",
       "    <tr>\n",
       "      <th rowspan=\"8\" valign=\"top\">average_montly_hours</th>\n",
       "      <th>count</th>\n",
       "      <td>11428.000000</td>\n",
       "      <td>3571.000000</td>\n",
       "    </tr>\n",
       "    <tr>\n",
       "      <th>mean</th>\n",
       "      <td>199.060203</td>\n",
       "      <td>207.419210</td>\n",
       "    </tr>\n",
       "    <tr>\n",
       "      <th>std</th>\n",
       "      <td>45.682731</td>\n",
       "      <td>61.202825</td>\n",
       "    </tr>\n",
       "    <tr>\n",
       "      <th>min</th>\n",
       "      <td>96.000000</td>\n",
       "      <td>126.000000</td>\n",
       "    </tr>\n",
       "    <tr>\n",
       "      <th>25%</th>\n",
       "      <td>162.000000</td>\n",
       "      <td>146.000000</td>\n",
       "    </tr>\n",
       "    <tr>\n",
       "      <th>50%</th>\n",
       "      <td>198.000000</td>\n",
       "      <td>224.000000</td>\n",
       "    </tr>\n",
       "    <tr>\n",
       "      <th>75%</th>\n",
       "      <td>238.000000</td>\n",
       "      <td>262.000000</td>\n",
       "    </tr>\n",
       "    <tr>\n",
       "      <th>max</th>\n",
       "      <td>287.000000</td>\n",
       "      <td>310.000000</td>\n",
       "    </tr>\n",
       "    <tr>\n",
       "      <th rowspan=\"8\" valign=\"top\">time_spend_company</th>\n",
       "      <th>count</th>\n",
       "      <td>11428.000000</td>\n",
       "      <td>3571.000000</td>\n",
       "    </tr>\n",
       "    <tr>\n",
       "      <th>mean</th>\n",
       "      <td>3.380032</td>\n",
       "      <td>3.876505</td>\n",
       "    </tr>\n",
       "    <tr>\n",
       "      <th>std</th>\n",
       "      <td>1.562348</td>\n",
       "      <td>0.977698</td>\n",
       "    </tr>\n",
       "    <tr>\n",
       "      <th>min</th>\n",
       "      <td>2.000000</td>\n",
       "      <td>2.000000</td>\n",
       "    </tr>\n",
       "    <tr>\n",
       "      <th>25%</th>\n",
       "      <td>2.000000</td>\n",
       "      <td>3.000000</td>\n",
       "    </tr>\n",
       "    <tr>\n",
       "      <th>50%</th>\n",
       "      <td>3.000000</td>\n",
       "      <td>4.000000</td>\n",
       "    </tr>\n",
       "    <tr>\n",
       "      <th>75%</th>\n",
       "      <td>4.000000</td>\n",
       "      <td>5.000000</td>\n",
       "    </tr>\n",
       "    <tr>\n",
       "      <th>max</th>\n",
       "      <td>10.000000</td>\n",
       "      <td>6.000000</td>\n",
       "    </tr>\n",
       "    <tr>\n",
       "      <th rowspan=\"8\" valign=\"top\">work_accident</th>\n",
       "      <th>count</th>\n",
       "      <td>11428.000000</td>\n",
       "      <td>3571.000000</td>\n",
       "    </tr>\n",
       "    <tr>\n",
       "      <th>mean</th>\n",
       "      <td>0.175009</td>\n",
       "      <td>0.047326</td>\n",
       "    </tr>\n",
       "    <tr>\n",
       "      <th>std</th>\n",
       "      <td>0.379991</td>\n",
       "      <td>0.212364</td>\n",
       "    </tr>\n",
       "    <tr>\n",
       "      <th>min</th>\n",
       "      <td>0.000000</td>\n",
       "      <td>0.000000</td>\n",
       "    </tr>\n",
       "    <tr>\n",
       "      <th>25%</th>\n",
       "      <td>0.000000</td>\n",
       "      <td>0.000000</td>\n",
       "    </tr>\n",
       "    <tr>\n",
       "      <th>50%</th>\n",
       "      <td>0.000000</td>\n",
       "      <td>0.000000</td>\n",
       "    </tr>\n",
       "    <tr>\n",
       "      <th>75%</th>\n",
       "      <td>0.000000</td>\n",
       "      <td>0.000000</td>\n",
       "    </tr>\n",
       "    <tr>\n",
       "      <th>max</th>\n",
       "      <td>1.000000</td>\n",
       "      <td>1.000000</td>\n",
       "    </tr>\n",
       "    <tr>\n",
       "      <th rowspan=\"8\" valign=\"top\">promotion_last_5years</th>\n",
       "      <th>count</th>\n",
       "      <td>11428.000000</td>\n",
       "      <td>3571.000000</td>\n",
       "    </tr>\n",
       "    <tr>\n",
       "      <th>mean</th>\n",
       "      <td>0.026251</td>\n",
       "      <td>0.005321</td>\n",
       "    </tr>\n",
       "    <tr>\n",
       "      <th>std</th>\n",
       "      <td>0.159889</td>\n",
       "      <td>0.072759</td>\n",
       "    </tr>\n",
       "    <tr>\n",
       "      <th>min</th>\n",
       "      <td>0.000000</td>\n",
       "      <td>0.000000</td>\n",
       "    </tr>\n",
       "    <tr>\n",
       "      <th>25%</th>\n",
       "      <td>0.000000</td>\n",
       "      <td>0.000000</td>\n",
       "    </tr>\n",
       "    <tr>\n",
       "      <th>50%</th>\n",
       "      <td>0.000000</td>\n",
       "      <td>0.000000</td>\n",
       "    </tr>\n",
       "    <tr>\n",
       "      <th>75%</th>\n",
       "      <td>0.000000</td>\n",
       "      <td>0.000000</td>\n",
       "    </tr>\n",
       "    <tr>\n",
       "      <th>max</th>\n",
       "      <td>1.000000</td>\n",
       "      <td>1.000000</td>\n",
       "    </tr>\n",
       "  </tbody>\n",
       "</table>\n",
       "</div>"
      ],
      "text/plain": [
       "left                                    0            1\n",
       "satisfaction_level    count  11428.000000  3571.000000\n",
       "                      mean       0.666810     0.440098\n",
       "                      std        0.217104     0.263933\n",
       "                      min        0.120000     0.090000\n",
       "                      25%        0.540000     0.130000\n",
       "                      50%        0.690000     0.410000\n",
       "                      75%        0.840000     0.730000\n",
       "                      max        1.000000     0.920000\n",
       "last_evaluation       count  11428.000000  3571.000000\n",
       "                      mean       0.715473     0.718113\n",
       "                      std        0.162005     0.197673\n",
       "                      min        0.360000     0.450000\n",
       "                      25%        0.580000     0.520000\n",
       "                      50%        0.710000     0.790000\n",
       "                      75%        0.850000     0.900000\n",
       "                      max        1.000000     1.000000\n",
       "number_project        count  11428.000000  3571.000000\n",
       "                      mean       3.786664     3.855503\n",
       "                      std        0.979884     1.818165\n",
       "                      min        2.000000     2.000000\n",
       "                      25%        3.000000     2.000000\n",
       "                      50%        4.000000     4.000000\n",
       "                      75%        4.000000     6.000000\n",
       "                      max        6.000000     7.000000\n",
       "average_montly_hours  count  11428.000000  3571.000000\n",
       "                      mean     199.060203   207.419210\n",
       "                      std       45.682731    61.202825\n",
       "                      min       96.000000   126.000000\n",
       "                      25%      162.000000   146.000000\n",
       "                      50%      198.000000   224.000000\n",
       "                      75%      238.000000   262.000000\n",
       "                      max      287.000000   310.000000\n",
       "time_spend_company    count  11428.000000  3571.000000\n",
       "                      mean       3.380032     3.876505\n",
       "                      std        1.562348     0.977698\n",
       "                      min        2.000000     2.000000\n",
       "                      25%        2.000000     3.000000\n",
       "                      50%        3.000000     4.000000\n",
       "                      75%        4.000000     5.000000\n",
       "                      max       10.000000     6.000000\n",
       "work_accident         count  11428.000000  3571.000000\n",
       "                      mean       0.175009     0.047326\n",
       "                      std        0.379991     0.212364\n",
       "                      min        0.000000     0.000000\n",
       "                      25%        0.000000     0.000000\n",
       "                      50%        0.000000     0.000000\n",
       "                      75%        0.000000     0.000000\n",
       "                      max        1.000000     1.000000\n",
       "promotion_last_5years count  11428.000000  3571.000000\n",
       "                      mean       0.026251     0.005321\n",
       "                      std        0.159889     0.072759\n",
       "                      min        0.000000     0.000000\n",
       "                      25%        0.000000     0.000000\n",
       "                      50%        0.000000     0.000000\n",
       "                      75%        0.000000     0.000000\n",
       "                      max        1.000000     1.000000"
      ]
     },
     "execution_count": 8,
     "metadata": {},
     "output_type": "execute_result"
    }
   ],
   "source": [
    "hr.groupby(\"left\").describe().T"
   ]
  },
  {
   "cell_type": "markdown",
   "metadata": {},
   "source": [
    "The biggest difference seems to be in the employee's satisfaction: it is 0.66 on average for people who don't leave, and 0.44 on average for people who leave. Who would have thought, unsatisfied employees leave the company, after all. \n",
    "\n",
    "We will see if the model will pick up the same type of information."
   ]
  },
  {
   "cell_type": "markdown",
   "metadata": {},
   "source": [
    "### 3. Visualise some more in-depth analysis\n",
    "\n",
    "Let's plot a histogram of the Average Monthly Hours of our employees and colour the chart according to whether the employee left or not:"
   ]
  },
  {
   "cell_type": "code",
   "execution_count": 9,
   "metadata": {},
   "outputs": [
    {
     "data": {
      "image/png": "[encoded data removed]",
      "text/plain": [
       "<Figure size 720x432 with 1 Axes>"
      ]
     },
     "metadata": {
      "needs_background": "light"
     },
     "output_type": "display_data"
    }
   ],
   "source": [
    "hr.groupby(\"left\")['average_montly_hours'].hist(bins=20, alpha=0.5, figsize=(10,6), legend=True)\n",
    "\n",
    "plt.title('Average Month Hours Histogram')\n",
    "plt.xlabel('Average Monthly Hours')\n",
    "plt.ylabel('Frequency')\n",
    "plt.legend(['Stayed','Left'])\n",
    "\n",
    "plt.show()"
   ]
  },
  {
   "cell_type": "markdown",
   "metadata": {},
   "source": [
    "From this chart we can see that Employees who left (orange) generally didn't work between 160-220 hours. The tendency is for people who left to have generally been working higher or lower hours, where employees who stayed generally don't work longer than 280 hours.\n",
    "\n",
    "Let's see if this relationship gets picked up by the model."
   ]
  },
  {
   "cell_type": "markdown",
   "metadata": {},
   "source": [
    "Lastly, let's see if there is a relationship between colleagues having a work accident and leaving the company:"
   ]
  },
  {
   "cell_type": "code",
   "execution_count": 10,
   "metadata": {},
   "outputs": [
    {
     "data": {
      "image/png": "[encoded data removed]",
      "text/plain": [
       "<Figure size 720x432 with 1 Axes>"
      ]
     },
     "metadata": {
      "needs_background": "light"
     },
     "output_type": "display_data"
    }
   ],
   "source": [
    "hr.groupby('work_accident')['left'].value_counts().unstack().plot(kind='bar',\n",
    "                                                                  alpha=0.5, \n",
    "                                                                  figsize=(10,6), \n",
    "                                                                  grid=True,\n",
    "                                                                  title='Number of Employees by Tenure',\n",
    "                                                                  xlabel='Had Accident (0=No Accident, 1=Accident)',\n",
    "                                                                  ylabel='Frequency')\n",
    "plt.legend(['Stayed','Left'])\n",
    "plt.show()"
   ]
  },
  {
   "cell_type": "markdown",
   "metadata": {},
   "source": [
    "There doesn't seem to be a high proportion of the colleagues who had an accident that left. This may not be a contibuting factor to colleagues leaving.\n",
    "\n",
    "Let's see if the model picks this up!\n",
    "\n",
    "---\n",
    "\n",
    "There are many more visualizations you can try. If you're curious, you can customize the code below to see even more!"
   ]
  },
  {
   "cell_type": "code",
   "execution_count": 15,
   "metadata": {},
   "outputs": [
    {
     "data": {
      "image/png": "[encoded data removed]",
      "text/plain": [
       "<Figure size 720x432 with 1 Axes>"
      ]
     },
     "metadata": {
      "needs_background": "light"
     },
     "output_type": "display_data"
    }
   ],
   "source": [
    "column_to_investigate = \"last_evaluation\"  # BUT CHANGE IT IF YOU WANT! For example to \"number_project\"\n",
    "hr.groupby(\"left\")[column_to_investigate].hist(bins=20, alpha=0.5, figsize=(10,6), legend=True)\n",
    "\n",
    "plt.title(f'{column_to_investigate} Histogram')\n",
    "plt.xlabel(column_to_investigate)\n",
    "plt.ylabel('Frequency')\n",
    "plt.legend(['Stayed','Left'])\n",
    "\n",
    "plt.show()"
   ]
  },
  {
   "cell_type": "markdown",
   "metadata": {},
   "source": [
    "In this section, we looked at exploratory data analysis. We saw how easy Python makes it, in numeric or visual form! "
   ]
  },
  {
   "cell_type": "markdown",
   "metadata": {},
   "source": [
    "---\n",
    "<a id='steps'></a><img src='img/mod-dev4.png' align='right' width='300px'>\n",
    "<a id='model'></a>\n",
    "## Model Development\n",
    "\n",
    "Now we can get into building our model. Here are the steps we need to follow when building:\n",
    "\n",
    "1. Split the data into train and test\n",
    "2. Choose & build the model\n",
    "3. Evaluate the model"
   ]
  },
  {
   "cell_type": "markdown",
   "metadata": {},
   "source": [
    "### 1. Split into train and test\n",
    "\n",
    "When building a model, we need to split the data into train set and test set. This is because we need to evaluate our model on unseen data.\n",
    "\n",
    "Why do we do that? Well, it's just like when taking a test in high school. You want to prepare on something similar to the exam, but not exactly the same. It would be cheating otherwise and we wouldn't really learn anything. \n",
    "\n",
    "Data scientists cares deeply that their model really learn and don't cheat. Hence the split!\n",
    "\n",
    "We can run the cell below to split both the **features** (`hr_clean`) and the **target** (`target_variable`) into 75% train and 25% test. The model will learn on the train, and will be tested on… test!"
   ]
  },
  {
   "cell_type": "code",
   "execution_count": 12,
   "metadata": {},
   "outputs": [],
   "source": [
    "X, X_test, y, y_test = train_test_split(hr_clean, target_variable)"
   ]
  },
  {
   "cell_type": "markdown",
   "metadata": {},
   "source": [
    "### 2. Choosing the type of model\n",
    "\n",
    "Lots of factors go in to choosing a model. We are going to use a Decision Tree because it is a easy-to-understand model often with good predictive power.\n",
    "\n",
    "The code below fits a model to the data using an algorithm called `DecisionTree`. We store the results in an object called `decision_tree_model`."
   ]
  },
  {
   "cell_type": "code",
   "execution_count": 14,
   "metadata": {},
   "outputs": [
    {
     "data": {
      "text/plain": [
       "DecisionTreeClassifier()"
      ]
     },
     "execution_count": 14,
     "metadata": {},
     "output_type": "execute_result"
    }
   ],
   "source": [
    "decision_tree_model = DecisionTree()\n",
    "decision_tree_model.fit(X, y)"
   ]
  },
  {
   "cell_type": "markdown",
   "metadata": {},
   "source": [
    "Note the models has learned (with `.fit`) on `X` & `y`: it has never seen `X_test` & `y_test`."
   ]
  },
  {
   "cell_type": "markdown",
   "metadata": {},
   "source": [
    "### 3. Evaluate the Model\n",
    "\n",
    "We can now use `decision_tree_model` to make predictions on the `X_test` set. Let's do that & look at the first 10 predicitions:"
   ]
  },
  {
   "cell_type": "code",
   "execution_count": 15,
   "metadata": {},
   "outputs": [
    {
     "name": "stdout",
     "output_type": "stream",
     "text": [
      "First ten predictions: [0 0 1 0 0 0 0 0 1 0]\n"
     ]
    }
   ],
   "source": [
    "y_predicted = decision_tree_model.predict(X_test)\n",
    "print('First ten predictions:', y_predicted[:10])"
   ]
  },
  {
   "cell_type": "markdown",
   "metadata": {},
   "source": [
    "We could go back to y_test and see how many are correct (how many did we say were 0 or 1 that **actually were** 0 or 1?). \n",
    "\n",
    "Instead we can use Python to compared the entire list! Phew!"
   ]
  },
  {
   "cell_type": "code",
   "execution_count": 16,
   "metadata": {},
   "outputs": [
    {
     "name": "stdout",
     "output_type": "stream",
     "text": [
      "Accuracy: 0.9714666666666667\n"
     ]
    }
   ],
   "source": [
    "print(\"Accuracy:\", metrics.accuracy_score(y_test, y_predicted))"
   ]
  },
  {
   "cell_type": "markdown",
   "metadata": {},
   "source": [
    "This tells how often we correctly guess if an employee in the test data will leave or stay. Pretty good!"
   ]
  },
  {
   "cell_type": "markdown",
   "metadata": {},
   "source": [
    "**Accuracy only tells us so much**.\n",
    "\n",
    "Accuracy tells us how correct we are for each value, but can we see ***how*** we were correct? I.e. do we do better are predicting people leaving or people staying?\n",
    "\n",
    "Data scientists use a tool called the confusion matrix. The name indicates how often the model is… confused."
   ]
  },
  {
   "cell_type": "code",
   "execution_count": 17,
   "metadata": {},
   "outputs": [
    {
     "data": {
      "text/html": [
       "<div>\n",
       "<style scoped>\n",
       "    .dataframe tbody tr th:only-of-type {\n",
       "        vertical-align: middle;\n",
       "    }\n",
       "\n",
       "    .dataframe tbody tr th {\n",
       "        vertical-align: top;\n",
       "    }\n",
       "\n",
       "    .dataframe thead th {\n",
       "        text-align: right;\n",
       "    }\n",
       "</style>\n",
       "<table border=\"1\" class=\"dataframe\">\n",
       "  <thead>\n",
       "    <tr style=\"text-align: right;\">\n",
       "      <th>Predicted</th>\n",
       "      <th>0</th>\n",
       "      <th>1</th>\n",
       "    </tr>\n",
       "    <tr>\n",
       "      <th>Actual</th>\n",
       "      <th></th>\n",
       "      <th></th>\n",
       "    </tr>\n",
       "  </thead>\n",
       "  <tbody>\n",
       "    <tr>\n",
       "      <th>0</th>\n",
       "      <td>2804</td>\n",
       "      <td>67</td>\n",
       "    </tr>\n",
       "    <tr>\n",
       "      <th>1</th>\n",
       "      <td>40</td>\n",
       "      <td>839</td>\n",
       "    </tr>\n",
       "  </tbody>\n",
       "</table>\n",
       "</div>"
      ],
      "text/plain": [
       "Predicted     0    1\n",
       "Actual              \n",
       "0          2804   67\n",
       "1            40  839"
      ]
     },
     "execution_count": 17,
     "metadata": {},
     "output_type": "execute_result"
    }
   ],
   "source": [
    "confusion_matrix = pd.crosstab(y_test,\n",
    "                               y_predicted, \n",
    "                               rownames=['Actual'], \n",
    "                               colnames=['Predicted'])\n",
    "confusion_matrix"
   ]
  },
  {
   "cell_type": "markdown",
   "metadata": {},
   "source": [
    "You can read the confusion matrix as follows:\n",
    "\n",
    "- Top left: the model says the employee stays, and they stay (called by data scientists **True Positive**)\n",
    "- Top right: the model says the employee leaves, but they stay (called by data scientists **False Negative**)\n",
    "- Bottom left: the model says the employee stays, but they leave (called by data scientists **False Positive**)\n",
    "- Bottom right: the model says the employee leaves, and they leave (called by data scientists **True Negative**)"
   ]
  },
  {
   "cell_type": "markdown",
   "metadata": {},
   "source": [
    "<a id='steps'></a><img src='img/mod-dev5.png' align='right' width='300px'>\n",
    "<a id='refine'></a>\n",
    "## Model Refinement\n",
    "\n",
    "There's a few ways we can look to refine our model. We might want to do this to make it more powerful, or make it simpler so that it is easier to manage in the future.\n",
    "\n",
    "We are going to:\n",
    "\n",
    "1. Try a different model\n",
    "2. Remove features"
   ]
  },
  {
   "cell_type": "markdown",
   "metadata": {},
   "source": [
    "### 1. Try a different model\n",
    "\n",
    "We can try a different model now — and we will use one called Random Forest — to see if we are able to get better predictions! The only bit that needs to change is the name of the algorithm (called `RandomForest`), because our data doesn't change!"
   ]
  },
  {
   "cell_type": "code",
   "execution_count": 18,
   "metadata": {},
   "outputs": [
    {
     "name": "stdout",
     "output_type": "stream",
     "text": [
      "Accuracy: 0.9906666666666667\n"
     ]
    }
   ],
   "source": [
    "random_forest_model = RandomForest(n_estimators=100)\n",
    "random_forest_model.fit(X, y)\n",
    "y_predicted = random_forest_model.predict(X_test)\n",
    "print(\"Accuracy:\", metrics.accuracy_score(y_test, y_predicted))"
   ]
  },
  {
   "cell_type": "markdown",
   "metadata": {},
   "source": [
    "This model has a better accuracy. If we have a look at the confusion matrix we can see that we are much better at finding those colleagues who left!"
   ]
  },
  {
   "cell_type": "code",
   "execution_count": 19,
   "metadata": {},
   "outputs": [
    {
     "data": {
      "text/html": [
       "<div>\n",
       "<style scoped>\n",
       "    .dataframe tbody tr th:only-of-type {\n",
       "        vertical-align: middle;\n",
       "    }\n",
       "\n",
       "    .dataframe tbody tr th {\n",
       "        vertical-align: top;\n",
       "    }\n",
       "\n",
       "    .dataframe thead th {\n",
       "        text-align: right;\n",
       "    }\n",
       "</style>\n",
       "<table border=\"1\" class=\"dataframe\">\n",
       "  <thead>\n",
       "    <tr style=\"text-align: right;\">\n",
       "      <th>Predicted</th>\n",
       "      <th>0</th>\n",
       "      <th>1</th>\n",
       "    </tr>\n",
       "    <tr>\n",
       "      <th>Actual</th>\n",
       "      <th></th>\n",
       "      <th></th>\n",
       "    </tr>\n",
       "  </thead>\n",
       "  <tbody>\n",
       "    <tr>\n",
       "      <th>0</th>\n",
       "      <td>2868</td>\n",
       "      <td>3</td>\n",
       "    </tr>\n",
       "    <tr>\n",
       "      <th>1</th>\n",
       "      <td>32</td>\n",
       "      <td>847</td>\n",
       "    </tr>\n",
       "  </tbody>\n",
       "</table>\n",
       "</div>"
      ],
      "text/plain": [
       "Predicted     0    1\n",
       "Actual              \n",
       "0          2868    3\n",
       "1            32  847"
      ]
     },
     "execution_count": 19,
     "metadata": {},
     "output_type": "execute_result"
    }
   ],
   "source": []
  },
  {
   "cell_type": "markdown",
   "metadata": {},
   "source": [
    "### 2. Remove some feature\n",
    "\n",
    "We might want to consider the amount of features that we include in our model as fewer features (a simpler model) may be easier to maintain in the long run.\n",
    "\n",
    "With many models, we can plot the features **the model** thought were the most important:"
   ]
  },
  {
   "cell_type": "code",
   "execution_count": 20,
   "metadata": {},
   "outputs": [
    {
     "data": {
      "text/plain": [
       "<AxesSubplot:title={'center':'Feature Importance in the Random Forest'}>"
      ]
     },
     "execution_count": 20,
     "metadata": {},
     "output_type": "execute_result"
    },
    {
     "data": {
      "image/png": "[encoded data removed]",
      "text/plain": [
       "<Figure size 720x432 with 1 Axes>"
      ]
     },
     "metadata": {
      "needs_background": "light"
     },
     "output_type": "display_data"
    }
   ],
   "source": [
    "feat_importance = pd.Series(random_forest_model.feature_importances_, index=hr_clean.columns)\n",
    "\n",
    "feat_importance.sort_values().plot(kind='barh', \n",
    "                                   figsize=(10,6),\n",
    "                                   title='Feature Importance in the Random Forest')"
   ]
  },
  {
   "cell_type": "markdown",
   "metadata": {},
   "source": [
    "What happens if the create a model using only the top 3 variables?"
   ]
  },
  {
   "cell_type": "code",
   "execution_count": 16,
   "metadata": {},
   "outputs": [
    {
     "data": {
      "text/html": [
       "<div>\n",
       "<style scoped>\n",
       "    .dataframe tbody tr th:only-of-type {\n",
       "        vertical-align: middle;\n",
       "    }\n",
       "\n",
       "    .dataframe tbody tr th {\n",
       "        vertical-align: top;\n",
       "    }\n",
       "\n",
       "    .dataframe thead th {\n",
       "        text-align: right;\n",
       "    }\n",
       "</style>\n",
       "<table border=\"1\" class=\"dataframe\">\n",
       "  <thead>\n",
       "    <tr style=\"text-align: right;\">\n",
       "      <th></th>\n",
       "      <th>satisfaction_level</th>\n",
       "      <th>time_spend_company</th>\n",
       "      <th>number_project</th>\n",
       "    </tr>\n",
       "  </thead>\n",
       "  <tbody>\n",
       "    <tr>\n",
       "      <th>0</th>\n",
       "      <td>0.38</td>\n",
       "      <td>3</td>\n",
       "      <td>2</td>\n",
       "    </tr>\n",
       "    <tr>\n",
       "      <th>1</th>\n",
       "      <td>0.80</td>\n",
       "      <td>6</td>\n",
       "      <td>5</td>\n",
       "    </tr>\n",
       "    <tr>\n",
       "      <th>2</th>\n",
       "      <td>0.11</td>\n",
       "      <td>4</td>\n",
       "      <td>7</td>\n",
       "    </tr>\n",
       "    <tr>\n",
       "      <th>3</th>\n",
       "      <td>0.72</td>\n",
       "      <td>5</td>\n",
       "      <td>5</td>\n",
       "    </tr>\n",
       "    <tr>\n",
       "      <th>4</th>\n",
       "      <td>0.37</td>\n",
       "      <td>3</td>\n",
       "      <td>2</td>\n",
       "    </tr>\n",
       "  </tbody>\n",
       "</table>\n",
       "</div>"
      ],
      "text/plain": [
       "   satisfaction_level  time_spend_company  number_project\n",
       "0                0.38                   3               2\n",
       "1                0.80                   6               5\n",
       "2                0.11                   4               7\n",
       "3                0.72                   5               5\n",
       "4                0.37                   3               2"
      ]
     },
     "execution_count": 16,
     "metadata": {},
     "output_type": "execute_result"
    }
   ],
   "source": [
    "hr_short = hr[[\"satisfaction_level\", \"time_spend_company\", \"number_project\"]]\n",
    "X, X_test, y, y_test = train_test_split(hr_short, hr.left)\n",
    "hr_short.head()"
   ]
  },
  {
   "cell_type": "markdown",
   "metadata": {},
   "source": [
    "Since we have **new data** we need to **retrain the Random Forest model**. Let's do this and print the accuracy:"
   ]
  },
  {
   "cell_type": "code",
   "execution_count": 17,
   "metadata": {},
   "outputs": [
    {
     "name": "stdout",
     "output_type": "stream",
     "text": [
      "Accuracy: 0.9674666666666667\n"
     ]
    }
   ],
   "source": [
    "random_forest_model = RandomForest(n_estimators=100)\n",
    "random_forest_model.fit(X, y)\n",
    "y_predicted = random_forest_model.predict(X_test)\n",
    "print(\"Accuracy:\", metrics.accuracy_score(y_test, y_predicted))"
   ]
  },
  {
   "cell_type": "markdown",
   "metadata": {},
   "source": [
    "This is still very high in terms of accuracy! We'd want to keep evaluating the model with other metrics (such as the confusion matrix along with others) but this is a good start.\n",
    "\n",
    "---\n",
    "\n",
    "Remember: there is always a **balance** when it comes to building a model. Do we need to be as accurate as possible or is it better to have a simpler model? \n",
    "\n",
    "- A more accurate model** will ensure we can accurately detect how many employees may leave or not. This would be good for activities such as planning resources.\n",
    "- With a **simper model** we can easily see what **relationships cause employees to leave**. This would be good if we wanted to decrease employee turnover."
   ]
  },
  {
   "cell_type": "markdown",
   "metadata": {},
   "source": [
    "---\n",
    "<a id='summary'></a>\n",
    "\n",
    "## Summary\n",
    "\n",
    "<img src='img/summary.png' width=' 400px' align='right'>\n",
    "\n",
    "We have now built multiple predictive models using Python to predict the employee churn. During this process we:\n",
    "- **Cleaned the data** by extracting the **target variable** — called **left** in our case\n",
    "- **Split the data** so that we can train a model using only train data (`X` and `y`) and hold out our test data (`X_test` and `y_test`) to evaluate how the model performs on unseen data.\n",
    "- **Built a Decision Tree** to create some predictions on the test data. Using these predicted values we could compare back to the actually target values to evaluate the model performance\n",
    "- **Refined the model** both by choosing a more powerful algorithm (`Random Forest`) and by removing some features using the feature importance as defined by the model.\n",
    "\n",
    "---"
   ]
  }
 ],
 "metadata": {
  "kernelspec": {
   "display_name": "Python 3 (ipykernel)",
   "language": "python",
   "name": "python3"
  },
  "language_info": {
   "codemirror_mode": {
    "name": "ipython",
    "version": 3
   },
   "file_extension": ".py",
   "mimetype": "text/x-python",
   "name": "python",
   "nbconvert_exporter": "python",
   "pygments_lexer": "ipython3",
   "version": "3.9.7"
  }
 },
 "nbformat": 4,
 "nbformat_minor": 4
}
